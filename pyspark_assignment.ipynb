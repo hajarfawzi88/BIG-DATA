{
  "nbformat": 4,
  "nbformat_minor": 0,
  "metadata": {
    "colab": {
      "provenance": []
    },
    "kernelspec": {
      "name": "python3",
      "display_name": "Python 3"
    },
    "language_info": {
      "name": "python"
    }
  },
  "cells": [
    {
      "cell_type": "markdown",
      "source": [
        "\n",
        "**Assigment 2 (PySpark-MLlib)**\n",
        "\n",
        "---\n",
        "\n",
        "**Target**\n",
        "\n",
        "Make sure that you have learned the basics about spark how to prepare the\n",
        "data and apply a machine learning model.\n",
        "\n",
        "---\n",
        "\n",
        "**Task**\n",
        "\n",
        "Given a Diabetes Dataset, use PySpark to implement a Machine learing pipeline\n",
        "to predicate Diabetes.\n",
        "\n",
        "https://www.kaggle.com/datasets/mathchi/diabetes-data-set\n",
        "\n",
        "Required :\n",
        "1.Prepare the data and do what you see regarding the preprocessing (\n",
        "including the visualization )\n",
        "\n",
        "2.Build a machine learing model to predict based on diagnostic\n",
        "measurements whether a patient has diabetes.\n",
        "\n",
        "3.Evaluate your model .(Select the appropriate metric to assess your model\n",
        "with)\n",
        "\n",
        "---\n",
        "\n"
      ],
      "metadata": {
        "id": "x5uSCZ4PfV7e"
      }
    },
    {
      "cell_type": "markdown",
      "source": [
        "# **1.Prepare the data and do what you see regarding the preprocessing ( including the visualization )**"
      ],
      "metadata": {
        "id": "nHn5qnb0guXn"
      }
    },
    {
      "cell_type": "code",
      "execution_count": null,
      "metadata": {
        "colab": {
          "base_uri": "https://localhost:8080/"
        },
        "id": "SOGfNm-XdC8z",
        "outputId": "c07d5eaa-5eaa-49ae-9bf4-f3871a73ac27"
      },
      "outputs": [
        {
          "output_type": "stream",
          "name": "stdout",
          "text": [
            "Requirement already satisfied: pyspark in /usr/local/lib/python3.10/dist-packages (3.5.0)\n",
            "Requirement already satisfied: py4j in /usr/local/lib/python3.10/dist-packages (0.10.9.7)\n"
          ]
        }
      ],
      "source": [
        "!pip install pyspark py4j"
      ]
    },
    {
      "cell_type": "code",
      "source": [
        "!apt-get install openjdk-8-jdk-headless -qq > /dev/null\n",
        "!wget -q http://archive.apache.org/dist/spark/spark-3.1.1/spark-3.1.1-bin-hadoop3.2.tgz\n",
        "!tar xf spark-3.1.1-bin-hadoop3.2.tgz\n",
        "!pip install -q findspark"
      ],
      "metadata": {
        "id": "AYRxNo_ldhrK"
      },
      "execution_count": null,
      "outputs": []
    },
    {
      "cell_type": "code",
      "source": [
        "import os\n",
        "os.environ[\"JAVA_HOME\"] = \"/usr/lib/jvm/java-8-openjdk-amd64\"\n",
        "os.environ[\"SPARK_HOME\"] = \"/content/spark-3.1.1-bin-hadoop3.2\""
      ],
      "metadata": {
        "id": "Ngg76s0odkXn"
      },
      "execution_count": null,
      "outputs": []
    },
    {
      "cell_type": "code",
      "source": [
        "import seaborn as sns\n",
        "import matplotlib.pyplot as plt\n",
        "from pyspark.ml.feature import VectorAssembler, StandardScaler\n",
        "from pyspark.ml.classification import LogisticRegression\n",
        "from pyspark.ml.pipeline import Pipeline\n",
        "from pyspark.ml.evaluation import BinaryClassificationEvaluator"
      ],
      "metadata": {
        "id": "OzYtNtvHt22o"
      },
      "execution_count": null,
      "outputs": []
    },
    {
      "cell_type": "code",
      "source": [
        "import findspark\n",
        "findspark.init()\n",
        "from pyspark.sql import SparkSession\n",
        "spark = SparkSession.builder.master(\"local[*]\").getOrCreate()\n",
        "spark.conf.set(\"spark.sql.repl.eagerEval.enabled\", True) # Property used to format output tables better\n",
        "spark"
      ],
      "metadata": {
        "colab": {
          "base_uri": "https://localhost:8080/",
          "height": 219
        },
        "id": "i6pKkWLDdoFD",
        "outputId": "4a540bc9-6d8b-4414-e0d7-e0015f2f307e"
      },
      "execution_count": null,
      "outputs": [
        {
          "output_type": "execute_result",
          "data": {
            "text/plain": [
              "<pyspark.sql.session.SparkSession at 0x7ca5a43d77f0>"
            ],
            "text/html": [
              "\n",
              "            <div>\n",
              "                <p><b>SparkSession - in-memory</b></p>\n",
              "                \n",
              "        <div>\n",
              "            <p><b>SparkContext</b></p>\n",
              "\n",
              "            <p><a href=\"http://e9a61385efbc:4040\">Spark UI</a></p>\n",
              "\n",
              "            <dl>\n",
              "              <dt>Version</dt>\n",
              "                <dd><code>v3.1.1</code></dd>\n",
              "              <dt>Master</dt>\n",
              "                <dd><code>local[*]</code></dd>\n",
              "              <dt>AppName</dt>\n",
              "                <dd><code>pyspark-shell</code></dd>\n",
              "            </dl>\n",
              "        </div>\n",
              "        \n",
              "            </div>\n",
              "        "
            ]
          },
          "metadata": {},
          "execution_count": 72
        }
      ]
    },
    {
      "cell_type": "code",
      "source": [
        "df=spark.read.csv(\"/content/diabetes.csv\", header=True, inferSchema=True)"
      ],
      "metadata": {
        "id": "PRUGufAod7Re"
      },
      "execution_count": null,
      "outputs": []
    },
    {
      "cell_type": "code",
      "source": [
        "df.show(5)"
      ],
      "metadata": {
        "colab": {
          "base_uri": "https://localhost:8080/"
        },
        "id": "zfqrRM5Ze6-x",
        "outputId": "b0b06008-c74f-4001-af30-7fd773247cb5"
      },
      "execution_count": null,
      "outputs": [
        {
          "output_type": "stream",
          "name": "stdout",
          "text": [
            "+-----------+-------+-------------+-------------+-------+----+------------------------+---+-------+\n",
            "|Pregnancies|Glucose|BloodPressure|SkinThickness|Insulin| BMI|DiabetesPedigreeFunction|Age|Outcome|\n",
            "+-----------+-------+-------------+-------------+-------+----+------------------------+---+-------+\n",
            "|          6|    148|           72|           35|      0|33.6|                   0.627| 50|      1|\n",
            "|          1|     85|           66|           29|      0|26.6|                   0.351| 31|      0|\n",
            "|          8|    183|           64|            0|      0|23.3|                   0.672| 32|      1|\n",
            "|          1|     89|           66|           23|     94|28.1|                   0.167| 21|      0|\n",
            "|          0|    137|           40|           35|    168|43.1|                   2.288| 33|      1|\n",
            "+-----------+-------+-------------+-------------+-------+----+------------------------+---+-------+\n",
            "only showing top 5 rows\n",
            "\n"
          ]
        }
      ]
    },
    {
      "cell_type": "code",
      "source": [
        "df"
      ],
      "metadata": {
        "colab": {
          "base_uri": "https://localhost:8080/",
          "height": 529
        },
        "id": "EkSEK6d1ge-Q",
        "outputId": "7c1175c5-1ad2-418f-8c90-e94f586b3e04"
      },
      "execution_count": null,
      "outputs": [
        {
          "output_type": "execute_result",
          "data": {
            "text/plain": [
              "+-----------+-------+-------------+-------------+-------+----+------------------------+---+-------+\n",
              "|Pregnancies|Glucose|BloodPressure|SkinThickness|Insulin| BMI|DiabetesPedigreeFunction|Age|Outcome|\n",
              "+-----------+-------+-------------+-------------+-------+----+------------------------+---+-------+\n",
              "|          6|    148|           72|           35|      0|33.6|                   0.627| 50|      1|\n",
              "|          1|     85|           66|           29|      0|26.6|                   0.351| 31|      0|\n",
              "|          8|    183|           64|            0|      0|23.3|                   0.672| 32|      1|\n",
              "|          1|     89|           66|           23|     94|28.1|                   0.167| 21|      0|\n",
              "|          0|    137|           40|           35|    168|43.1|                   2.288| 33|      1|\n",
              "|          5|    116|           74|            0|      0|25.6|                   0.201| 30|      0|\n",
              "|          3|     78|           50|           32|     88|31.0|                   0.248| 26|      1|\n",
              "|         10|    115|            0|            0|      0|35.3|                   0.134| 29|      0|\n",
              "|          2|    197|           70|           45|    543|30.5|                   0.158| 53|      1|\n",
              "|          8|    125|           96|            0|      0| 0.0|                   0.232| 54|      1|\n",
              "|          4|    110|           92|            0|      0|37.6|                   0.191| 30|      0|\n",
              "|         10|    168|           74|            0|      0|38.0|                   0.537| 34|      1|\n",
              "|         10|    139|           80|            0|      0|27.1|                   1.441| 57|      0|\n",
              "|          1|    189|           60|           23|    846|30.1|                   0.398| 59|      1|\n",
              "|          5|    166|           72|           19|    175|25.8|                   0.587| 51|      1|\n",
              "|          7|    100|            0|            0|      0|30.0|                   0.484| 32|      1|\n",
              "|          0|    118|           84|           47|    230|45.8|                   0.551| 31|      1|\n",
              "|          7|    107|           74|            0|      0|29.6|                   0.254| 31|      1|\n",
              "|          1|    103|           30|           38|     83|43.3|                   0.183| 33|      0|\n",
              "|          1|    115|           70|           30|     96|34.6|                   0.529| 32|      1|\n",
              "+-----------+-------+-------------+-------------+-------+----+------------------------+---+-------+\n",
              "only showing top 20 rows"
            ],
            "text/html": [
              "<table border='1'>\n",
              "<tr><th>Pregnancies</th><th>Glucose</th><th>BloodPressure</th><th>SkinThickness</th><th>Insulin</th><th>BMI</th><th>DiabetesPedigreeFunction</th><th>Age</th><th>Outcome</th></tr>\n",
              "<tr><td>6</td><td>148</td><td>72</td><td>35</td><td>0</td><td>33.6</td><td>0.627</td><td>50</td><td>1</td></tr>\n",
              "<tr><td>1</td><td>85</td><td>66</td><td>29</td><td>0</td><td>26.6</td><td>0.351</td><td>31</td><td>0</td></tr>\n",
              "<tr><td>8</td><td>183</td><td>64</td><td>0</td><td>0</td><td>23.3</td><td>0.672</td><td>32</td><td>1</td></tr>\n",
              "<tr><td>1</td><td>89</td><td>66</td><td>23</td><td>94</td><td>28.1</td><td>0.167</td><td>21</td><td>0</td></tr>\n",
              "<tr><td>0</td><td>137</td><td>40</td><td>35</td><td>168</td><td>43.1</td><td>2.288</td><td>33</td><td>1</td></tr>\n",
              "<tr><td>5</td><td>116</td><td>74</td><td>0</td><td>0</td><td>25.6</td><td>0.201</td><td>30</td><td>0</td></tr>\n",
              "<tr><td>3</td><td>78</td><td>50</td><td>32</td><td>88</td><td>31.0</td><td>0.248</td><td>26</td><td>1</td></tr>\n",
              "<tr><td>10</td><td>115</td><td>0</td><td>0</td><td>0</td><td>35.3</td><td>0.134</td><td>29</td><td>0</td></tr>\n",
              "<tr><td>2</td><td>197</td><td>70</td><td>45</td><td>543</td><td>30.5</td><td>0.158</td><td>53</td><td>1</td></tr>\n",
              "<tr><td>8</td><td>125</td><td>96</td><td>0</td><td>0</td><td>0.0</td><td>0.232</td><td>54</td><td>1</td></tr>\n",
              "<tr><td>4</td><td>110</td><td>92</td><td>0</td><td>0</td><td>37.6</td><td>0.191</td><td>30</td><td>0</td></tr>\n",
              "<tr><td>10</td><td>168</td><td>74</td><td>0</td><td>0</td><td>38.0</td><td>0.537</td><td>34</td><td>1</td></tr>\n",
              "<tr><td>10</td><td>139</td><td>80</td><td>0</td><td>0</td><td>27.1</td><td>1.441</td><td>57</td><td>0</td></tr>\n",
              "<tr><td>1</td><td>189</td><td>60</td><td>23</td><td>846</td><td>30.1</td><td>0.398</td><td>59</td><td>1</td></tr>\n",
              "<tr><td>5</td><td>166</td><td>72</td><td>19</td><td>175</td><td>25.8</td><td>0.587</td><td>51</td><td>1</td></tr>\n",
              "<tr><td>7</td><td>100</td><td>0</td><td>0</td><td>0</td><td>30.0</td><td>0.484</td><td>32</td><td>1</td></tr>\n",
              "<tr><td>0</td><td>118</td><td>84</td><td>47</td><td>230</td><td>45.8</td><td>0.551</td><td>31</td><td>1</td></tr>\n",
              "<tr><td>7</td><td>107</td><td>74</td><td>0</td><td>0</td><td>29.6</td><td>0.254</td><td>31</td><td>1</td></tr>\n",
              "<tr><td>1</td><td>103</td><td>30</td><td>38</td><td>83</td><td>43.3</td><td>0.183</td><td>33</td><td>0</td></tr>\n",
              "<tr><td>1</td><td>115</td><td>70</td><td>30</td><td>96</td><td>34.6</td><td>0.529</td><td>32</td><td>1</td></tr>\n",
              "</table>\n",
              "only showing top 20 rows\n"
            ]
          },
          "metadata": {},
          "execution_count": 75
        }
      ]
    },
    {
      "cell_type": "code",
      "source": [
        "df.printSchema()"
      ],
      "metadata": {
        "colab": {
          "base_uri": "https://localhost:8080/"
        },
        "id": "H3dRD8DGfKGz",
        "outputId": "2419cdf7-aadf-4b33-b1a6-3fc6676ef1bb"
      },
      "execution_count": null,
      "outputs": [
        {
          "output_type": "stream",
          "name": "stdout",
          "text": [
            "root\n",
            " |-- Pregnancies: integer (nullable = true)\n",
            " |-- Glucose: integer (nullable = true)\n",
            " |-- BloodPressure: integer (nullable = true)\n",
            " |-- SkinThickness: integer (nullable = true)\n",
            " |-- Insulin: integer (nullable = true)\n",
            " |-- BMI: double (nullable = true)\n",
            " |-- DiabetesPedigreeFunction: double (nullable = true)\n",
            " |-- Age: integer (nullable = true)\n",
            " |-- Outcome: integer (nullable = true)\n",
            "\n"
          ]
        }
      ]
    },
    {
      "cell_type": "code",
      "source": [
        "df.columns"
      ],
      "metadata": {
        "colab": {
          "base_uri": "https://localhost:8080/"
        },
        "id": "TOlPLpsvgRsa",
        "outputId": "b85c2364-353c-498f-81d0-5c3796cf79e5"
      },
      "execution_count": null,
      "outputs": [
        {
          "output_type": "execute_result",
          "data": {
            "text/plain": [
              "['Pregnancies',\n",
              " 'Glucose',\n",
              " 'BloodPressure',\n",
              " 'SkinThickness',\n",
              " 'Insulin',\n",
              " 'BMI',\n",
              " 'DiabetesPedigreeFunction',\n",
              " 'Age',\n",
              " 'Outcome']"
            ]
          },
          "metadata": {},
          "execution_count": 77
        }
      ]
    },
    {
      "cell_type": "code",
      "source": [
        "df.describe().show()"
      ],
      "metadata": {
        "colab": {
          "base_uri": "https://localhost:8080/"
        },
        "id": "4DDgRiocgWR0",
        "outputId": "23b1b889-9b6e-4ed9-c28d-39fa8db0c338"
      },
      "execution_count": null,
      "outputs": [
        {
          "output_type": "stream",
          "name": "stdout",
          "text": [
            "+-------+------------------+-----------------+------------------+------------------+------------------+------------------+------------------------+------------------+------------------+\n",
            "|summary|       Pregnancies|          Glucose|     BloodPressure|     SkinThickness|           Insulin|               BMI|DiabetesPedigreeFunction|               Age|           Outcome|\n",
            "+-------+------------------+-----------------+------------------+------------------+------------------+------------------+------------------------+------------------+------------------+\n",
            "|  count|               768|              768|               768|               768|               768|               768|                     768|               768|               768|\n",
            "|   mean|3.8450520833333335|     120.89453125|       69.10546875|20.536458333333332| 79.79947916666667|31.992578124999977|      0.4718763020833327|33.240885416666664|0.3489583333333333|\n",
            "| stddev|  3.36957806269887|31.97261819513622|19.355807170644777|15.952217567727642|115.24400235133803| 7.884160320375441|       0.331328595012775|11.760231540678689| 0.476951377242799|\n",
            "|    min|                 0|                0|                 0|                 0|                 0|               0.0|                   0.078|                21|                 0|\n",
            "|    max|                17|              199|               122|                99|               846|              67.1|                    2.42|                81|                 1|\n",
            "+-------+------------------+-----------------+------------------+------------------+------------------+------------------+------------------------+------------------+------------------+\n",
            "\n"
          ]
        }
      ]
    },
    {
      "cell_type": "code",
      "source": [
        "df = df.na.drop()"
      ],
      "metadata": {
        "id": "A54h7Nghg53Y"
      },
      "execution_count": null,
      "outputs": []
    },
    {
      "cell_type": "code",
      "source": [
        "df.describe().show()"
      ],
      "metadata": {
        "colab": {
          "base_uri": "https://localhost:8080/"
        },
        "id": "-hu4TcAig9ow",
        "outputId": "50a20fd5-35d5-4200-c1b3-1af141b1c2a3"
      },
      "execution_count": null,
      "outputs": [
        {
          "output_type": "stream",
          "name": "stdout",
          "text": [
            "+-------+------------------+-----------------+------------------+------------------+------------------+------------------+------------------------+------------------+------------------+\n",
            "|summary|       Pregnancies|          Glucose|     BloodPressure|     SkinThickness|           Insulin|               BMI|DiabetesPedigreeFunction|               Age|           Outcome|\n",
            "+-------+------------------+-----------------+------------------+------------------+------------------+------------------+------------------------+------------------+------------------+\n",
            "|  count|               768|              768|               768|               768|               768|               768|                     768|               768|               768|\n",
            "|   mean|3.8450520833333335|     120.89453125|       69.10546875|20.536458333333332| 79.79947916666667|31.992578124999977|      0.4718763020833327|33.240885416666664|0.3489583333333333|\n",
            "| stddev|  3.36957806269887|31.97261819513622|19.355807170644777|15.952217567727642|115.24400235133803| 7.884160320375441|       0.331328595012775|11.760231540678689| 0.476951377242799|\n",
            "|    min|                 0|                0|                 0|                 0|                 0|               0.0|                   0.078|                21|                 0|\n",
            "|    max|                17|              199|               122|                99|               846|              67.1|                    2.42|                81|                 1|\n",
            "+-------+------------------+-----------------+------------------+------------------+------------------+------------------+------------------------+------------------+------------------+\n",
            "\n"
          ]
        }
      ]
    },
    {
      "cell_type": "code",
      "source": [
        "Outcome=df.select(\"outcome\").toPandas()"
      ],
      "metadata": {
        "id": "stkL3kMRhBsQ"
      },
      "execution_count": null,
      "outputs": []
    },
    {
      "cell_type": "code",
      "source": [
        "Outcome"
      ],
      "metadata": {
        "colab": {
          "base_uri": "https://localhost:8080/",
          "height": 424
        },
        "id": "map6guyYhnO0",
        "outputId": "27d3bc7d-3a01-44c4-dfea-471668aa2eea"
      },
      "execution_count": null,
      "outputs": [
        {
          "output_type": "execute_result",
          "data": {
            "text/plain": [
              "     outcome\n",
              "0          1\n",
              "1          0\n",
              "2          1\n",
              "3          0\n",
              "4          1\n",
              "..       ...\n",
              "763        0\n",
              "764        0\n",
              "765        0\n",
              "766        1\n",
              "767        0\n",
              "\n",
              "[768 rows x 1 columns]"
            ],
            "text/html": [
              "\n",
              "  <div id=\"df-9e70b63e-c0f4-4baf-a0ae-d216cd3e8ad0\" class=\"colab-df-container\">\n",
              "    <div>\n",
              "<style scoped>\n",
              "    .dataframe tbody tr th:only-of-type {\n",
              "        vertical-align: middle;\n",
              "    }\n",
              "\n",
              "    .dataframe tbody tr th {\n",
              "        vertical-align: top;\n",
              "    }\n",
              "\n",
              "    .dataframe thead th {\n",
              "        text-align: right;\n",
              "    }\n",
              "</style>\n",
              "<table border=\"1\" class=\"dataframe\">\n",
              "  <thead>\n",
              "    <tr style=\"text-align: right;\">\n",
              "      <th></th>\n",
              "      <th>outcome</th>\n",
              "    </tr>\n",
              "  </thead>\n",
              "  <tbody>\n",
              "    <tr>\n",
              "      <th>0</th>\n",
              "      <td>1</td>\n",
              "    </tr>\n",
              "    <tr>\n",
              "      <th>1</th>\n",
              "      <td>0</td>\n",
              "    </tr>\n",
              "    <tr>\n",
              "      <th>2</th>\n",
              "      <td>1</td>\n",
              "    </tr>\n",
              "    <tr>\n",
              "      <th>3</th>\n",
              "      <td>0</td>\n",
              "    </tr>\n",
              "    <tr>\n",
              "      <th>4</th>\n",
              "      <td>1</td>\n",
              "    </tr>\n",
              "    <tr>\n",
              "      <th>...</th>\n",
              "      <td>...</td>\n",
              "    </tr>\n",
              "    <tr>\n",
              "      <th>763</th>\n",
              "      <td>0</td>\n",
              "    </tr>\n",
              "    <tr>\n",
              "      <th>764</th>\n",
              "      <td>0</td>\n",
              "    </tr>\n",
              "    <tr>\n",
              "      <th>765</th>\n",
              "      <td>0</td>\n",
              "    </tr>\n",
              "    <tr>\n",
              "      <th>766</th>\n",
              "      <td>1</td>\n",
              "    </tr>\n",
              "    <tr>\n",
              "      <th>767</th>\n",
              "      <td>0</td>\n",
              "    </tr>\n",
              "  </tbody>\n",
              "</table>\n",
              "<p>768 rows × 1 columns</p>\n",
              "</div>\n",
              "    <div class=\"colab-df-buttons\">\n",
              "\n",
              "  <div class=\"colab-df-container\">\n",
              "    <button class=\"colab-df-convert\" onclick=\"convertToInteractive('df-9e70b63e-c0f4-4baf-a0ae-d216cd3e8ad0')\"\n",
              "            title=\"Convert this dataframe to an interactive table.\"\n",
              "            style=\"display:none;\">\n",
              "\n",
              "  <svg xmlns=\"http://www.w3.org/2000/svg\" height=\"24px\" viewBox=\"0 -960 960 960\">\n",
              "    <path d=\"M120-120v-720h720v720H120Zm60-500h600v-160H180v160Zm220 220h160v-160H400v160Zm0 220h160v-160H400v160ZM180-400h160v-160H180v160Zm440 0h160v-160H620v160ZM180-180h160v-160H180v160Zm440 0h160v-160H620v160Z\"/>\n",
              "  </svg>\n",
              "    </button>\n",
              "\n",
              "  <style>\n",
              "    .colab-df-container {\n",
              "      display:flex;\n",
              "      gap: 12px;\n",
              "    }\n",
              "\n",
              "    .colab-df-convert {\n",
              "      background-color: #E8F0FE;\n",
              "      border: none;\n",
              "      border-radius: 50%;\n",
              "      cursor: pointer;\n",
              "      display: none;\n",
              "      fill: #1967D2;\n",
              "      height: 32px;\n",
              "      padding: 0 0 0 0;\n",
              "      width: 32px;\n",
              "    }\n",
              "\n",
              "    .colab-df-convert:hover {\n",
              "      background-color: #E2EBFA;\n",
              "      box-shadow: 0px 1px 2px rgba(60, 64, 67, 0.3), 0px 1px 3px 1px rgba(60, 64, 67, 0.15);\n",
              "      fill: #174EA6;\n",
              "    }\n",
              "\n",
              "    .colab-df-buttons div {\n",
              "      margin-bottom: 4px;\n",
              "    }\n",
              "\n",
              "    [theme=dark] .colab-df-convert {\n",
              "      background-color: #3B4455;\n",
              "      fill: #D2E3FC;\n",
              "    }\n",
              "\n",
              "    [theme=dark] .colab-df-convert:hover {\n",
              "      background-color: #434B5C;\n",
              "      box-shadow: 0px 1px 3px 1px rgba(0, 0, 0, 0.15);\n",
              "      filter: drop-shadow(0px 1px 2px rgba(0, 0, 0, 0.3));\n",
              "      fill: #FFFFFF;\n",
              "    }\n",
              "  </style>\n",
              "\n",
              "    <script>\n",
              "      const buttonEl =\n",
              "        document.querySelector('#df-9e70b63e-c0f4-4baf-a0ae-d216cd3e8ad0 button.colab-df-convert');\n",
              "      buttonEl.style.display =\n",
              "        google.colab.kernel.accessAllowed ? 'block' : 'none';\n",
              "\n",
              "      async function convertToInteractive(key) {\n",
              "        const element = document.querySelector('#df-9e70b63e-c0f4-4baf-a0ae-d216cd3e8ad0');\n",
              "        const dataTable =\n",
              "          await google.colab.kernel.invokeFunction('convertToInteractive',\n",
              "                                                    [key], {});\n",
              "        if (!dataTable) return;\n",
              "\n",
              "        const docLinkHtml = 'Like what you see? Visit the ' +\n",
              "          '<a target=\"_blank\" href=https://colab.research.google.com/notebooks/data_table.ipynb>data table notebook</a>'\n",
              "          + ' to learn more about interactive tables.';\n",
              "        element.innerHTML = '';\n",
              "        dataTable['output_type'] = 'display_data';\n",
              "        await google.colab.output.renderOutput(dataTable, element);\n",
              "        const docLink = document.createElement('div');\n",
              "        docLink.innerHTML = docLinkHtml;\n",
              "        element.appendChild(docLink);\n",
              "      }\n",
              "    </script>\n",
              "  </div>\n",
              "\n",
              "\n",
              "<div id=\"df-840fa3c4-0864-4911-83f5-d361fcae0c73\">\n",
              "  <button class=\"colab-df-quickchart\" onclick=\"quickchart('df-840fa3c4-0864-4911-83f5-d361fcae0c73')\"\n",
              "            title=\"Suggest charts\"\n",
              "            style=\"display:none;\">\n",
              "\n",
              "<svg xmlns=\"http://www.w3.org/2000/svg\" height=\"24px\"viewBox=\"0 0 24 24\"\n",
              "     width=\"24px\">\n",
              "    <g>\n",
              "        <path d=\"M19 3H5c-1.1 0-2 .9-2 2v14c0 1.1.9 2 2 2h14c1.1 0 2-.9 2-2V5c0-1.1-.9-2-2-2zM9 17H7v-7h2v7zm4 0h-2V7h2v10zm4 0h-2v-4h2v4z\"/>\n",
              "    </g>\n",
              "</svg>\n",
              "  </button>\n",
              "\n",
              "<style>\n",
              "  .colab-df-quickchart {\n",
              "      --bg-color: #E8F0FE;\n",
              "      --fill-color: #1967D2;\n",
              "      --hover-bg-color: #E2EBFA;\n",
              "      --hover-fill-color: #174EA6;\n",
              "      --disabled-fill-color: #AAA;\n",
              "      --disabled-bg-color: #DDD;\n",
              "  }\n",
              "\n",
              "  [theme=dark] .colab-df-quickchart {\n",
              "      --bg-color: #3B4455;\n",
              "      --fill-color: #D2E3FC;\n",
              "      --hover-bg-color: #434B5C;\n",
              "      --hover-fill-color: #FFFFFF;\n",
              "      --disabled-bg-color: #3B4455;\n",
              "      --disabled-fill-color: #666;\n",
              "  }\n",
              "\n",
              "  .colab-df-quickchart {\n",
              "    background-color: var(--bg-color);\n",
              "    border: none;\n",
              "    border-radius: 50%;\n",
              "    cursor: pointer;\n",
              "    display: none;\n",
              "    fill: var(--fill-color);\n",
              "    height: 32px;\n",
              "    padding: 0;\n",
              "    width: 32px;\n",
              "  }\n",
              "\n",
              "  .colab-df-quickchart:hover {\n",
              "    background-color: var(--hover-bg-color);\n",
              "    box-shadow: 0 1px 2px rgba(60, 64, 67, 0.3), 0 1px 3px 1px rgba(60, 64, 67, 0.15);\n",
              "    fill: var(--button-hover-fill-color);\n",
              "  }\n",
              "\n",
              "  .colab-df-quickchart-complete:disabled,\n",
              "  .colab-df-quickchart-complete:disabled:hover {\n",
              "    background-color: var(--disabled-bg-color);\n",
              "    fill: var(--disabled-fill-color);\n",
              "    box-shadow: none;\n",
              "  }\n",
              "\n",
              "  .colab-df-spinner {\n",
              "    border: 2px solid var(--fill-color);\n",
              "    border-color: transparent;\n",
              "    border-bottom-color: var(--fill-color);\n",
              "    animation:\n",
              "      spin 1s steps(1) infinite;\n",
              "  }\n",
              "\n",
              "  @keyframes spin {\n",
              "    0% {\n",
              "      border-color: transparent;\n",
              "      border-bottom-color: var(--fill-color);\n",
              "      border-left-color: var(--fill-color);\n",
              "    }\n",
              "    20% {\n",
              "      border-color: transparent;\n",
              "      border-left-color: var(--fill-color);\n",
              "      border-top-color: var(--fill-color);\n",
              "    }\n",
              "    30% {\n",
              "      border-color: transparent;\n",
              "      border-left-color: var(--fill-color);\n",
              "      border-top-color: var(--fill-color);\n",
              "      border-right-color: var(--fill-color);\n",
              "    }\n",
              "    40% {\n",
              "      border-color: transparent;\n",
              "      border-right-color: var(--fill-color);\n",
              "      border-top-color: var(--fill-color);\n",
              "    }\n",
              "    60% {\n",
              "      border-color: transparent;\n",
              "      border-right-color: var(--fill-color);\n",
              "    }\n",
              "    80% {\n",
              "      border-color: transparent;\n",
              "      border-right-color: var(--fill-color);\n",
              "      border-bottom-color: var(--fill-color);\n",
              "    }\n",
              "    90% {\n",
              "      border-color: transparent;\n",
              "      border-bottom-color: var(--fill-color);\n",
              "    }\n",
              "  }\n",
              "</style>\n",
              "\n",
              "  <script>\n",
              "    async function quickchart(key) {\n",
              "      const quickchartButtonEl =\n",
              "        document.querySelector('#' + key + ' button');\n",
              "      quickchartButtonEl.disabled = true;  // To prevent multiple clicks.\n",
              "      quickchartButtonEl.classList.add('colab-df-spinner');\n",
              "      try {\n",
              "        const charts = await google.colab.kernel.invokeFunction(\n",
              "            'suggestCharts', [key], {});\n",
              "      } catch (error) {\n",
              "        console.error('Error during call to suggestCharts:', error);\n",
              "      }\n",
              "      quickchartButtonEl.classList.remove('colab-df-spinner');\n",
              "      quickchartButtonEl.classList.add('colab-df-quickchart-complete');\n",
              "    }\n",
              "    (() => {\n",
              "      let quickchartButtonEl =\n",
              "        document.querySelector('#df-840fa3c4-0864-4911-83f5-d361fcae0c73 button');\n",
              "      quickchartButtonEl.style.display =\n",
              "        google.colab.kernel.accessAllowed ? 'block' : 'none';\n",
              "    })();\n",
              "  </script>\n",
              "</div>\n",
              "    </div>\n",
              "  </div>\n"
            ]
          },
          "metadata": {},
          "execution_count": 82
        }
      ]
    },
    {
      "cell_type": "code",
      "source": [
        "plt.figure(figsize=(7,7))\n",
        "sns.histplot(Outcome['outcome'],bins=200)\n",
        "plt.show()"
      ],
      "metadata": {
        "colab": {
          "base_uri": "https://localhost:8080/",
          "height": 619
        },
        "id": "rFYV6XMOhr8x",
        "outputId": "c12dcd40-e00b-44ec-8d2b-ce2adf8a6fe1"
      },
      "execution_count": null,
      "outputs": [
        {
          "output_type": "display_data",
          "data": {
            "text/plain": [
              "<Figure size 700x700 with 1 Axes>"
            ],
            "image/png": "[encoded data removed]"
          },
          "metadata": {}
        }
      ]
    },
    {
      "cell_type": "code",
      "source": [
        "features=[i for i in df.columns if i != \"Outcome\"]"
      ],
      "metadata": {
        "id": "-Y6armgFiaD5"
      },
      "execution_count": null,
      "outputs": []
    },
    {
      "cell_type": "code",
      "source": [
        "vecAssembler=VectorAssembler(inputCols=features,outputCol=\"features\")"
      ],
      "metadata": {
        "id": "KKfKM71iiPh3"
      },
      "execution_count": null,
      "outputs": []
    },
    {
      "cell_type": "code",
      "source": [
        "standerd=StandardScaler(inputCol=\"features\", outputCol=\"standerd\")"
      ],
      "metadata": {
        "id": "4njpIJzawrmw"
      },
      "execution_count": null,
      "outputs": []
    },
    {
      "cell_type": "code",
      "source": [
        "pl=Pipeline(stages=[vecAssembler,standerd])"
      ],
      "metadata": {
        "id": "oBS8V5i5lOoP"
      },
      "execution_count": null,
      "outputs": []
    },
    {
      "cell_type": "code",
      "source": [
        "new_df = pl.fit(df).transform(df)"
      ],
      "metadata": {
        "id": "nZG2Tw4wpldq"
      },
      "execution_count": null,
      "outputs": []
    },
    {
      "cell_type": "code",
      "source": [
        "new_df.show(3)"
      ],
      "metadata": {
        "colab": {
          "base_uri": "https://localhost:8080/"
        },
        "id": "LObO9MJ7pvBQ",
        "outputId": "491d4b7f-41d8-4240-f92a-128487741f05"
      },
      "execution_count": null,
      "outputs": [
        {
          "output_type": "stream",
          "name": "stdout",
          "text": [
            "+-----------+-------+-------------+-------------+-------+----+------------------------+---+-------+--------------------+--------------------+\n",
            "|Pregnancies|Glucose|BloodPressure|SkinThickness|Insulin| BMI|DiabetesPedigreeFunction|Age|Outcome|            features|            standerd|\n",
            "+-----------+-------+-------------+-------------+-------+----+------------------------+---+-------+--------------------+--------------------+\n",
            "|          6|    148|           72|           35|      0|33.6|                   0.627| 50|      1|[6.0,148.0,72.0,3...|[1.78063837321943...|\n",
            "|          1|     85|           66|           29|      0|26.6|                   0.351| 31|      0|[1.0,85.0,66.0,29...|[0.29677306220323...|\n",
            "|          8|    183|           64|            0|      0|23.3|                   0.672| 32|      1|[8.0,183.0,64.0,0...|[2.37418449762590...|\n",
            "+-----------+-------+-------------+-------------+-------+----+------------------------+---+-------+--------------------+--------------------+\n",
            "only showing top 3 rows\n",
            "\n"
          ]
        }
      ]
    },
    {
      "cell_type": "markdown",
      "source": [
        "# 2.Build a machine learing model to predict based on diagnostic measurements whether a patient has diabetes."
      ],
      "metadata": {
        "id": "c8jsK3hkjbUx"
      }
    },
    {
      "cell_type": "code",
      "source": [
        "(train,test)=new_df.randomSplit([.8,.2],seed=42)"
      ],
      "metadata": {
        "id": "4uzeejf0p-K9"
      },
      "execution_count": null,
      "outputs": []
    },
    {
      "cell_type": "code",
      "source": [
        "lr=LogisticRegression(featuresCol=\"features\", labelCol=\"Outcome\")"
      ],
      "metadata": {
        "id": "LhBd0QM2m9vE"
      },
      "execution_count": null,
      "outputs": []
    },
    {
      "cell_type": "code",
      "source": [
        "new_pl=Pipeline(stages=[lr])"
      ],
      "metadata": {
        "id": "BTZ8Dr1Lk8JY"
      },
      "execution_count": null,
      "outputs": []
    },
    {
      "cell_type": "code",
      "source": [
        "train"
      ],
      "metadata": {
        "colab": {
          "base_uri": "https://localhost:8080/",
          "height": 529
        },
        "id": "y6z3DH7rqPo-",
        "outputId": "f3144a95-cef0-4fa5-96ba-4daa90b0b0ae"
      },
      "execution_count": null,
      "outputs": [
        {
          "output_type": "execute_result",
          "data": {
            "text/plain": [
              "+-----------+-------+-------------+-------------+-------+----+------------------------+---+-------+--------------------+--------------------+\n",
              "|Pregnancies|Glucose|BloodPressure|SkinThickness|Insulin| BMI|DiabetesPedigreeFunction|Age|Outcome|            features|            standerd|\n",
              "+-----------+-------+-------------+-------------+-------+----+------------------------+---+-------+--------------------+--------------------+\n",
              "|          0|     57|           60|            0|      0|21.7|                   0.735| 67|      0|[0.0,57.0,60.0,0....|[0.0,1.7827754878...|\n",
              "|          0|     67|           76|            0|      0|45.3|                   0.194| 46|      0|[0.0,67.0,76.0,0....|[0.0,2.0955431172...|\n",
              "|          0|     74|           52|           10|     36|27.8|                   0.269| 22|      0|[0.0,74.0,52.0,10...|[0.0,2.3144804578...|\n",
              "|          0|     78|           88|           29|     40|36.9|                   0.434| 21|      0|[0.0,78.0,88.0,29...|[0.0,2.4395875096...|\n",
              "|          0|     84|           64|           22|     66|35.8|                   0.545| 21|      0|[0.0,84.0,64.0,22...|[0.0,2.6272480873...|\n",
              "|          0|     86|           68|           32|      0|35.8|                   0.238| 25|      0|[0.0,86.0,68.0,32...|[0.0,2.6898016132...|\n",
              "|          0|     91|           80|            0|      0|32.4|                   0.601| 27|      0|[0.0,91.0,80.0,0....|[0.0,2.8461854279...|\n",
              "|          0|     93|           60|            0|      0|35.3|                   0.263| 25|      0|[0.0,93.0,60.0,0....|[0.0,2.9087389538...|\n",
              "|          0|     93|           60|           25|     92|28.7|                   0.532| 22|      0|[0.0,93.0,60.0,25...|[0.0,2.9087389538...|\n",
              "|          0|     93|          100|           39|     72|43.4|                   1.021| 35|      0|[0.0,93.0,100.0,3...|[0.0,2.9087389538...|\n",
              "|          0|     94|           70|           27|    115|43.5|                   0.347| 21|      0|[0.0,94.0,70.0,27...|[0.0,2.9400157167...|\n",
              "|          0|     95|           64|           39|    105|44.6|                   0.366| 22|      0|[0.0,95.0,64.0,39...|[0.0,2.9712924797...|\n",
              "|          0|     95|           80|           45|     92|36.5|                    0.33| 26|      0|[0.0,95.0,80.0,45...|[0.0,2.9712924797...|\n",
              "|          0|     95|           85|           25|     36|37.4|                   0.247| 24|      1|[0.0,95.0,85.0,25...|[0.0,2.9712924797...|\n",
              "|          0|     97|           64|           36|    100|36.8|                     0.6| 25|      0|[0.0,97.0,64.0,36...|[0.0,3.0338460056...|\n",
              "|          0|     99|            0|            0|      0|25.0|                   0.253| 22|      0|(8,[1,5,6,7],[99....|(8,[1,5,6,7],[3.0...|\n",
              "|          0|    100|           70|           26|     50|30.8|                   0.597| 21|      0|[0.0,100.0,70.0,2...|[0.0,3.1276762944...|\n",
              "|          0|    100|           88|           60|    110|46.8|                   0.962| 31|      0|[0.0,100.0,88.0,6...|[0.0,3.1276762944...|\n",
              "|          0|    101|           64|           17|      0|21.0|                   0.252| 21|      0|[0.0,101.0,64.0,1...|[0.0,3.1589530573...|\n",
              "|          0|    101|           65|           28|      0|24.6|                   0.237| 22|      0|[0.0,101.0,65.0,2...|[0.0,3.1589530573...|\n",
              "+-----------+-------+-------------+-------------+-------+----+------------------------+---+-------+--------------------+--------------------+\n",
              "only showing top 20 rows"
            ],
            "text/html": [
              "<table border='1'>\n",
              "<tr><th>Pregnancies</th><th>Glucose</th><th>BloodPressure</th><th>SkinThickness</th><th>Insulin</th><th>BMI</th><th>DiabetesPedigreeFunction</th><th>Age</th><th>Outcome</th><th>features</th><th>standerd</th></tr>\n",
              "<tr><td>0</td><td>57</td><td>60</td><td>0</td><td>0</td><td>21.7</td><td>0.735</td><td>67</td><td>0</td><td>[0.0,57.0,60.0,0....</td><td>[0.0,1.7827754878...</td></tr>\n",
              "<tr><td>0</td><td>67</td><td>76</td><td>0</td><td>0</td><td>45.3</td><td>0.194</td><td>46</td><td>0</td><td>[0.0,67.0,76.0,0....</td><td>[0.0,2.0955431172...</td></tr>\n",
              "<tr><td>0</td><td>74</td><td>52</td><td>10</td><td>36</td><td>27.8</td><td>0.269</td><td>22</td><td>0</td><td>[0.0,74.0,52.0,10...</td><td>[0.0,2.3144804578...</td></tr>\n",
              "<tr><td>0</td><td>78</td><td>88</td><td>29</td><td>40</td><td>36.9</td><td>0.434</td><td>21</td><td>0</td><td>[0.0,78.0,88.0,29...</td><td>[0.0,2.4395875096...</td></tr>\n",
              "<tr><td>0</td><td>84</td><td>64</td><td>22</td><td>66</td><td>35.8</td><td>0.545</td><td>21</td><td>0</td><td>[0.0,84.0,64.0,22...</td><td>[0.0,2.6272480873...</td></tr>\n",
              "<tr><td>0</td><td>86</td><td>68</td><td>32</td><td>0</td><td>35.8</td><td>0.238</td><td>25</td><td>0</td><td>[0.0,86.0,68.0,32...</td><td>[0.0,2.6898016132...</td></tr>\n",
              "<tr><td>0</td><td>91</td><td>80</td><td>0</td><td>0</td><td>32.4</td><td>0.601</td><td>27</td><td>0</td><td>[0.0,91.0,80.0,0....</td><td>[0.0,2.8461854279...</td></tr>\n",
              "<tr><td>0</td><td>93</td><td>60</td><td>0</td><td>0</td><td>35.3</td><td>0.263</td><td>25</td><td>0</td><td>[0.0,93.0,60.0,0....</td><td>[0.0,2.9087389538...</td></tr>\n",
              "<tr><td>0</td><td>93</td><td>60</td><td>25</td><td>92</td><td>28.7</td><td>0.532</td><td>22</td><td>0</td><td>[0.0,93.0,60.0,25...</td><td>[0.0,2.9087389538...</td></tr>\n",
              "<tr><td>0</td><td>93</td><td>100</td><td>39</td><td>72</td><td>43.4</td><td>1.021</td><td>35</td><td>0</td><td>[0.0,93.0,100.0,3...</td><td>[0.0,2.9087389538...</td></tr>\n",
              "<tr><td>0</td><td>94</td><td>70</td><td>27</td><td>115</td><td>43.5</td><td>0.347</td><td>21</td><td>0</td><td>[0.0,94.0,70.0,27...</td><td>[0.0,2.9400157167...</td></tr>\n",
              "<tr><td>0</td><td>95</td><td>64</td><td>39</td><td>105</td><td>44.6</td><td>0.366</td><td>22</td><td>0</td><td>[0.0,95.0,64.0,39...</td><td>[0.0,2.9712924797...</td></tr>\n",
              "<tr><td>0</td><td>95</td><td>80</td><td>45</td><td>92</td><td>36.5</td><td>0.33</td><td>26</td><td>0</td><td>[0.0,95.0,80.0,45...</td><td>[0.0,2.9712924797...</td></tr>\n",
              "<tr><td>0</td><td>95</td><td>85</td><td>25</td><td>36</td><td>37.4</td><td>0.247</td><td>24</td><td>1</td><td>[0.0,95.0,85.0,25...</td><td>[0.0,2.9712924797...</td></tr>\n",
              "<tr><td>0</td><td>97</td><td>64</td><td>36</td><td>100</td><td>36.8</td><td>0.6</td><td>25</td><td>0</td><td>[0.0,97.0,64.0,36...</td><td>[0.0,3.0338460056...</td></tr>\n",
              "<tr><td>0</td><td>99</td><td>0</td><td>0</td><td>0</td><td>25.0</td><td>0.253</td><td>22</td><td>0</td><td>(8,[1,5,6,7],[99....</td><td>(8,[1,5,6,7],[3.0...</td></tr>\n",
              "<tr><td>0</td><td>100</td><td>70</td><td>26</td><td>50</td><td>30.8</td><td>0.597</td><td>21</td><td>0</td><td>[0.0,100.0,70.0,2...</td><td>[0.0,3.1276762944...</td></tr>\n",
              "<tr><td>0</td><td>100</td><td>88</td><td>60</td><td>110</td><td>46.8</td><td>0.962</td><td>31</td><td>0</td><td>[0.0,100.0,88.0,6...</td><td>[0.0,3.1276762944...</td></tr>\n",
              "<tr><td>0</td><td>101</td><td>64</td><td>17</td><td>0</td><td>21.0</td><td>0.252</td><td>21</td><td>0</td><td>[0.0,101.0,64.0,1...</td><td>[0.0,3.1589530573...</td></tr>\n",
              "<tr><td>0</td><td>101</td><td>65</td><td>28</td><td>0</td><td>24.6</td><td>0.237</td><td>22</td><td>0</td><td>[0.0,101.0,65.0,2...</td><td>[0.0,3.1589530573...</td></tr>\n",
              "</table>\n",
              "only showing top 20 rows\n"
            ]
          },
          "metadata": {},
          "execution_count": 174
        }
      ]
    },
    {
      "cell_type": "code",
      "source": [
        "test"
      ],
      "metadata": {
        "colab": {
          "base_uri": "https://localhost:8080/",
          "height": 529
        },
        "id": "kLjMx0q0qRqW",
        "outputId": "6307b350-f3a2-4387-d6b0-c84f520ef6ea"
      },
      "execution_count": null,
      "outputs": [
        {
          "output_type": "execute_result",
          "data": {
            "text/plain": [
              "+-----------+-------+-------------+-------------+-------+----+------------------------+---+-------+--------------------+--------------------+\n",
              "|Pregnancies|Glucose|BloodPressure|SkinThickness|Insulin| BMI|DiabetesPedigreeFunction|Age|Outcome|            features|            standerd|\n",
              "+-----------+-------+-------------+-------------+-------+----+------------------------+---+-------+--------------------+--------------------+\n",
              "|          0|     73|            0|            0|      0|21.1|                   0.342| 25|      0|(8,[1,5,6,7],[73....|(8,[1,5,6,7],[2.2...|\n",
              "|          0|     84|           82|           31|    125|38.2|                   0.233| 23|      0|[0.0,84.0,82.0,31...|[0.0,2.6272480873...|\n",
              "|          0|     91|           68|           32|    210|39.9|                   0.381| 25|      0|[0.0,91.0,68.0,32...|[0.0,2.8461854279...|\n",
              "|          0|     94|            0|            0|      0| 0.0|                   0.256| 25|      0|(8,[1,6,7],[94.0,...|(8,[1,6,7],[2.940...|\n",
              "|          0|     98|           82|           15|     84|25.2|                   0.299| 22|      0|[0.0,98.0,82.0,15...|[0.0,3.0651227685...|\n",
              "|          0|    101|           62|            0|      0|21.9|                   0.336| 25|      0|[0.0,101.0,62.0,0...|[0.0,3.1589530573...|\n",
              "|          0|    102|           75|           23|      0| 0.0|                   0.572| 21|      0|[0.0,102.0,75.0,2...|[0.0,3.1902298203...|\n",
              "|          0|    105|           64|           41|    142|41.5|                   0.173| 22|      0|[0.0,105.0,64.0,4...|[0.0,3.2840601091...|\n",
              "|          0|    111|           65|            0|      0|24.6|                    0.66| 31|      0|[0.0,111.0,65.0,0...|[0.0,3.4717206868...|\n",
              "|          0|    113|           76|            0|      0|33.3|                   0.278| 23|      1|[0.0,113.0,76.0,0...|[0.0,3.5342742127...|\n",
              "|          0|    113|           80|           16|      0|31.0|                   0.874| 21|      0|[0.0,113.0,80.0,1...|[0.0,3.5342742127...|\n",
              "|          0|    117|            0|            0|      0|33.8|                   0.932| 44|      0|(8,[1,5,6,7],[117...|(8,[1,5,6,7],[3.6...|\n",
              "|          0|    117|           80|           31|     53|45.2|                   0.089| 24|      0|[0.0,117.0,80.0,3...|[0.0,3.6593812644...|\n",
              "|          0|    119|           64|           18|     92|34.9|                   0.725| 23|      0|[0.0,119.0,64.0,1...|[0.0,3.7219347903...|\n",
              "|          0|    124|           70|           20|      0|27.4|                   0.254| 36|      1|[0.0,124.0,70.0,2...|[0.0,3.8783186051...|\n",
              "|          0|    129|           80|            0|      0|31.2|                   0.703| 29|      0|[0.0,129.0,80.0,0...|[0.0,4.0347024198...|\n",
              "|          0|    135|           94|           46|    145|40.6|                   0.284| 26|      0|[0.0,135.0,94.0,4...|[0.0,4.2223629974...|\n",
              "|          0|    173|           78|           32|    265|46.5|                   1.159| 58|      0|[0.0,173.0,78.0,3...|[0.0,5.4108799893...|\n",
              "|          1|      0|           68|           35|      0|32.0|                   0.389| 22|      0|[1.0,0.0,68.0,35....|[0.29677306220323...|\n",
              "|          1|     71|           78|           50|     45|33.2|                   0.422| 21|      0|[1.0,71.0,78.0,50...|[0.29677306220323...|\n",
              "+-----------+-------+-------------+-------------+-------+----+------------------------+---+-------+--------------------+--------------------+\n",
              "only showing top 20 rows"
            ],
            "text/html": [
              "<table border='1'>\n",
              "<tr><th>Pregnancies</th><th>Glucose</th><th>BloodPressure</th><th>SkinThickness</th><th>Insulin</th><th>BMI</th><th>DiabetesPedigreeFunction</th><th>Age</th><th>Outcome</th><th>features</th><th>standerd</th></tr>\n",
              "<tr><td>0</td><td>73</td><td>0</td><td>0</td><td>0</td><td>21.1</td><td>0.342</td><td>25</td><td>0</td><td>(8,[1,5,6,7],[73....</td><td>(8,[1,5,6,7],[2.2...</td></tr>\n",
              "<tr><td>0</td><td>84</td><td>82</td><td>31</td><td>125</td><td>38.2</td><td>0.233</td><td>23</td><td>0</td><td>[0.0,84.0,82.0,31...</td><td>[0.0,2.6272480873...</td></tr>\n",
              "<tr><td>0</td><td>91</td><td>68</td><td>32</td><td>210</td><td>39.9</td><td>0.381</td><td>25</td><td>0</td><td>[0.0,91.0,68.0,32...</td><td>[0.0,2.8461854279...</td></tr>\n",
              "<tr><td>0</td><td>94</td><td>0</td><td>0</td><td>0</td><td>0.0</td><td>0.256</td><td>25</td><td>0</td><td>(8,[1,6,7],[94.0,...</td><td>(8,[1,6,7],[2.940...</td></tr>\n",
              "<tr><td>0</td><td>98</td><td>82</td><td>15</td><td>84</td><td>25.2</td><td>0.299</td><td>22</td><td>0</td><td>[0.0,98.0,82.0,15...</td><td>[0.0,3.0651227685...</td></tr>\n",
              "<tr><td>0</td><td>101</td><td>62</td><td>0</td><td>0</td><td>21.9</td><td>0.336</td><td>25</td><td>0</td><td>[0.0,101.0,62.0,0...</td><td>[0.0,3.1589530573...</td></tr>\n",
              "<tr><td>0</td><td>102</td><td>75</td><td>23</td><td>0</td><td>0.0</td><td>0.572</td><td>21</td><td>0</td><td>[0.0,102.0,75.0,2...</td><td>[0.0,3.1902298203...</td></tr>\n",
              "<tr><td>0</td><td>105</td><td>64</td><td>41</td><td>142</td><td>41.5</td><td>0.173</td><td>22</td><td>0</td><td>[0.0,105.0,64.0,4...</td><td>[0.0,3.2840601091...</td></tr>\n",
              "<tr><td>0</td><td>111</td><td>65</td><td>0</td><td>0</td><td>24.6</td><td>0.66</td><td>31</td><td>0</td><td>[0.0,111.0,65.0,0...</td><td>[0.0,3.4717206868...</td></tr>\n",
              "<tr><td>0</td><td>113</td><td>76</td><td>0</td><td>0</td><td>33.3</td><td>0.278</td><td>23</td><td>1</td><td>[0.0,113.0,76.0,0...</td><td>[0.0,3.5342742127...</td></tr>\n",
              "<tr><td>0</td><td>113</td><td>80</td><td>16</td><td>0</td><td>31.0</td><td>0.874</td><td>21</td><td>0</td><td>[0.0,113.0,80.0,1...</td><td>[0.0,3.5342742127...</td></tr>\n",
              "<tr><td>0</td><td>117</td><td>0</td><td>0</td><td>0</td><td>33.8</td><td>0.932</td><td>44</td><td>0</td><td>(8,[1,5,6,7],[117...</td><td>(8,[1,5,6,7],[3.6...</td></tr>\n",
              "<tr><td>0</td><td>117</td><td>80</td><td>31</td><td>53</td><td>45.2</td><td>0.089</td><td>24</td><td>0</td><td>[0.0,117.0,80.0,3...</td><td>[0.0,3.6593812644...</td></tr>\n",
              "<tr><td>0</td><td>119</td><td>64</td><td>18</td><td>92</td><td>34.9</td><td>0.725</td><td>23</td><td>0</td><td>[0.0,119.0,64.0,1...</td><td>[0.0,3.7219347903...</td></tr>\n",
              "<tr><td>0</td><td>124</td><td>70</td><td>20</td><td>0</td><td>27.4</td><td>0.254</td><td>36</td><td>1</td><td>[0.0,124.0,70.0,2...</td><td>[0.0,3.8783186051...</td></tr>\n",
              "<tr><td>0</td><td>129</td><td>80</td><td>0</td><td>0</td><td>31.2</td><td>0.703</td><td>29</td><td>0</td><td>[0.0,129.0,80.0,0...</td><td>[0.0,4.0347024198...</td></tr>\n",
              "<tr><td>0</td><td>135</td><td>94</td><td>46</td><td>145</td><td>40.6</td><td>0.284</td><td>26</td><td>0</td><td>[0.0,135.0,94.0,4...</td><td>[0.0,4.2223629974...</td></tr>\n",
              "<tr><td>0</td><td>173</td><td>78</td><td>32</td><td>265</td><td>46.5</td><td>1.159</td><td>58</td><td>0</td><td>[0.0,173.0,78.0,3...</td><td>[0.0,5.4108799893...</td></tr>\n",
              "<tr><td>1</td><td>0</td><td>68</td><td>35</td><td>0</td><td>32.0</td><td>0.389</td><td>22</td><td>0</td><td>[1.0,0.0,68.0,35....</td><td>[0.29677306220323...</td></tr>\n",
              "<tr><td>1</td><td>71</td><td>78</td><td>50</td><td>45</td><td>33.2</td><td>0.422</td><td>21</td><td>0</td><td>[1.0,71.0,78.0,50...</td><td>[0.29677306220323...</td></tr>\n",
              "</table>\n",
              "only showing top 20 rows\n"
            ]
          },
          "metadata": {},
          "execution_count": 175
        }
      ]
    },
    {
      "cell_type": "code",
      "source": [
        "pl_model=new_pl.fit(train)"
      ],
      "metadata": {
        "id": "PolH1JqcjLqg"
      },
      "execution_count": null,
      "outputs": []
    },
    {
      "cell_type": "code",
      "source": [
        "predictions=pl_model.transform(test)"
      ],
      "metadata": {
        "id": "o-B5PVdXkkeM"
      },
      "execution_count": null,
      "outputs": []
    },
    {
      "cell_type": "code",
      "source": [
        "predictions"
      ],
      "metadata": {
        "colab": {
          "base_uri": "https://localhost:8080/",
          "height": 549
        },
        "id": "fuOZjEf9kpRB",
        "outputId": "91ad5b66-6d87-4bca-bfd6-a6139bda7cdb"
      },
      "execution_count": null,
      "outputs": [
        {
          "output_type": "execute_result",
          "data": {
            "text/plain": [
              "+-----------+-------+-------------+-------------+-------+----+------------------------+---+-------+--------------------+--------------------+--------------------+--------------------+----------+\n",
              "|Pregnancies|Glucose|BloodPressure|SkinThickness|Insulin| BMI|DiabetesPedigreeFunction|Age|Outcome|            features|            standerd|       rawPrediction|         probability|prediction|\n",
              "+-----------+-------+-------------+-------------+-------+----+------------------------+---+-------+--------------------+--------------------+--------------------+--------------------+----------+\n",
              "|          0|     73|            0|            0|      0|21.1|                   0.342| 25|      0|(8,[1,5,6,7],[73....|(8,[1,5,6,7],[2.2...|[3.06153170568647...|[0.95527778035130...|       0.0|\n",
              "|          0|     84|           82|           31|    125|38.2|                   0.233| 23|      0|[0.0,84.0,82.0,31...|[0.0,2.6272480873...|[2.66947242483774...|[0.93520106766183...|       0.0|\n",
              "|          0|     91|           68|           32|    210|39.9|                   0.381| 25|      0|[0.0,91.0,68.0,32...|[0.0,2.8461854279...|[1.97452878409872...|[0.87809671791306...|       0.0|\n",
              "|          0|     94|            0|            0|      0| 0.0|                   0.256| 25|      0|(8,[1,6,7],[94.0,...|(8,[1,6,7],[2.940...|[4.37628255920671...|[0.98758408541814...|       0.0|\n",
              "|          0|     98|           82|           15|     84|25.2|                   0.299| 22|      0|[0.0,98.0,82.0,15...|[0.0,3.0651227685...|[3.27608735843840...|[0.96359929366418...|       0.0|\n",
              "|          0|    101|           62|            0|      0|21.9|                   0.336| 25|      0|[0.0,101.0,62.0,0...|[0.0,3.1589530573...|[2.98232158485755...|[0.95176905482943...|       0.0|\n",
              "|          0|    102|           75|           23|      0| 0.0|                   0.572| 21|      0|[0.0,102.0,75.0,2...|[0.0,3.1902298203...|[4.93838217496840...|[0.99288480614979...|       0.0|\n",
              "|          0|    105|           64|           41|    142|41.5|                   0.173| 22|      0|[0.0,105.0,64.0,4...|[0.0,3.2840601091...|[1.54599423756722...|[0.82433442208141...|       0.0|\n",
              "|          0|    111|           65|            0|      0|24.6|                    0.66| 31|      0|[0.0,111.0,65.0,0...|[0.0,3.4717206868...|[1.97067644512695...|[0.87768375148767...|       0.0|\n",
              "|          0|    113|           76|            0|      0|33.3|                   0.278| 23|      1|[0.0,113.0,76.0,0...|[0.0,3.5342742127...|[1.87586073535898...|[0.86713495811880...|       0.0|\n",
              "|          0|    113|           80|           16|      0|31.0|                   0.874| 21|      0|[0.0,113.0,80.0,1...|[0.0,3.5342742127...|[1.52021249638746...|[0.82056976963441...|       0.0|\n",
              "|          0|    117|            0|            0|      0|33.8|                   0.932| 44|      0|(8,[1,5,6,7],[117...|(8,[1,5,6,7],[3.6...|[-0.5606897271358...|[0.36338788519267...|       1.0|\n",
              "|          0|    117|           80|           31|     53|45.2|                   0.089| 24|      0|[0.0,117.0,80.0,3...|[0.0,3.6593812644...|[1.00402696293310...|[0.73184959052007...|       0.0|\n",
              "|          0|    119|           64|           18|     92|34.9|                   0.725| 23|      0|[0.0,119.0,64.0,1...|[0.0,3.7219347903...|[0.97388724387610...|[0.72589362953628...|       0.0|\n",
              "|          0|    124|           70|           20|      0|27.4|                   0.254| 36|      1|[0.0,124.0,70.0,2...|[0.0,3.8783186051...|[1.73743842997137...|[0.85036140611132...|       0.0|\n",
              "|          0|    129|           80|            0|      0|31.2|                   0.703| 29|      0|[0.0,129.0,80.0,0...|[0.0,4.0347024198...|[1.00226142526783...|[0.73150296943056...|       0.0|\n",
              "|          0|    135|           94|           46|    145|40.6|                   0.284| 26|      0|[0.0,135.0,94.0,4...|[0.0,4.2223629974...|[0.88664296709252...|[0.70819691332215...|       0.0|\n",
              "|          0|    173|           78|           32|    265|46.5|                   1.159| 58|      0|[0.0,173.0,78.0,3...|[0.0,5.4108799893...|[-2.6241234841302...|[0.06760191866465...|       1.0|\n",
              "|          1|      0|           68|           35|      0|32.0|                   0.389| 22|      0|[1.0,0.0,68.0,35....|[0.29677306220323...|[5.33974265871915...|[0.99522579730719...|       0.0|\n",
              "|          1|     71|           78|           50|     45|33.2|                   0.422| 21|      0|[1.0,71.0,78.0,50...|[0.29677306220323...|[3.11772531961695...|[0.95761800456004...|       0.0|\n",
              "+-----------+-------+-------------+-------------+-------+----+------------------------+---+-------+--------------------+--------------------+--------------------+--------------------+----------+\n",
              "only showing top 20 rows"
            ],
            "text/html": [
              "<table border='1'>\n",
              "<tr><th>Pregnancies</th><th>Glucose</th><th>BloodPressure</th><th>SkinThickness</th><th>Insulin</th><th>BMI</th><th>DiabetesPedigreeFunction</th><th>Age</th><th>Outcome</th><th>features</th><th>standerd</th><th>rawPrediction</th><th>probability</th><th>prediction</th></tr>\n",
              "<tr><td>0</td><td>73</td><td>0</td><td>0</td><td>0</td><td>21.1</td><td>0.342</td><td>25</td><td>0</td><td>(8,[1,5,6,7],[73....</td><td>(8,[1,5,6,7],[2.2...</td><td>[3.06153170568647...</td><td>[0.95527778035130...</td><td>0.0</td></tr>\n",
              "<tr><td>0</td><td>84</td><td>82</td><td>31</td><td>125</td><td>38.2</td><td>0.233</td><td>23</td><td>0</td><td>[0.0,84.0,82.0,31...</td><td>[0.0,2.6272480873...</td><td>[2.66947242483774...</td><td>[0.93520106766183...</td><td>0.0</td></tr>\n",
              "<tr><td>0</td><td>91</td><td>68</td><td>32</td><td>210</td><td>39.9</td><td>0.381</td><td>25</td><td>0</td><td>[0.0,91.0,68.0,32...</td><td>[0.0,2.8461854279...</td><td>[1.97452878409872...</td><td>[0.87809671791306...</td><td>0.0</td></tr>\n",
              "<tr><td>0</td><td>94</td><td>0</td><td>0</td><td>0</td><td>0.0</td><td>0.256</td><td>25</td><td>0</td><td>(8,[1,6,7],[94.0,...</td><td>(8,[1,6,7],[2.940...</td><td>[4.37628255920671...</td><td>[0.98758408541814...</td><td>0.0</td></tr>\n",
              "<tr><td>0</td><td>98</td><td>82</td><td>15</td><td>84</td><td>25.2</td><td>0.299</td><td>22</td><td>0</td><td>[0.0,98.0,82.0,15...</td><td>[0.0,3.0651227685...</td><td>[3.27608735843840...</td><td>[0.96359929366418...</td><td>0.0</td></tr>\n",
              "<tr><td>0</td><td>101</td><td>62</td><td>0</td><td>0</td><td>21.9</td><td>0.336</td><td>25</td><td>0</td><td>[0.0,101.0,62.0,0...</td><td>[0.0,3.1589530573...</td><td>[2.98232158485755...</td><td>[0.95176905482943...</td><td>0.0</td></tr>\n",
              "<tr><td>0</td><td>102</td><td>75</td><td>23</td><td>0</td><td>0.0</td><td>0.572</td><td>21</td><td>0</td><td>[0.0,102.0,75.0,2...</td><td>[0.0,3.1902298203...</td><td>[4.93838217496840...</td><td>[0.99288480614979...</td><td>0.0</td></tr>\n",
              "<tr><td>0</td><td>105</td><td>64</td><td>41</td><td>142</td><td>41.5</td><td>0.173</td><td>22</td><td>0</td><td>[0.0,105.0,64.0,4...</td><td>[0.0,3.2840601091...</td><td>[1.54599423756722...</td><td>[0.82433442208141...</td><td>0.0</td></tr>\n",
              "<tr><td>0</td><td>111</td><td>65</td><td>0</td><td>0</td><td>24.6</td><td>0.66</td><td>31</td><td>0</td><td>[0.0,111.0,65.0,0...</td><td>[0.0,3.4717206868...</td><td>[1.97067644512695...</td><td>[0.87768375148767...</td><td>0.0</td></tr>\n",
              "<tr><td>0</td><td>113</td><td>76</td><td>0</td><td>0</td><td>33.3</td><td>0.278</td><td>23</td><td>1</td><td>[0.0,113.0,76.0,0...</td><td>[0.0,3.5342742127...</td><td>[1.87586073535898...</td><td>[0.86713495811880...</td><td>0.0</td></tr>\n",
              "<tr><td>0</td><td>113</td><td>80</td><td>16</td><td>0</td><td>31.0</td><td>0.874</td><td>21</td><td>0</td><td>[0.0,113.0,80.0,1...</td><td>[0.0,3.5342742127...</td><td>[1.52021249638746...</td><td>[0.82056976963441...</td><td>0.0</td></tr>\n",
              "<tr><td>0</td><td>117</td><td>0</td><td>0</td><td>0</td><td>33.8</td><td>0.932</td><td>44</td><td>0</td><td>(8,[1,5,6,7],[117...</td><td>(8,[1,5,6,7],[3.6...</td><td>[-0.5606897271358...</td><td>[0.36338788519267...</td><td>1.0</td></tr>\n",
              "<tr><td>0</td><td>117</td><td>80</td><td>31</td><td>53</td><td>45.2</td><td>0.089</td><td>24</td><td>0</td><td>[0.0,117.0,80.0,3...</td><td>[0.0,3.6593812644...</td><td>[1.00402696293310...</td><td>[0.73184959052007...</td><td>0.0</td></tr>\n",
              "<tr><td>0</td><td>119</td><td>64</td><td>18</td><td>92</td><td>34.9</td><td>0.725</td><td>23</td><td>0</td><td>[0.0,119.0,64.0,1...</td><td>[0.0,3.7219347903...</td><td>[0.97388724387610...</td><td>[0.72589362953628...</td><td>0.0</td></tr>\n",
              "<tr><td>0</td><td>124</td><td>70</td><td>20</td><td>0</td><td>27.4</td><td>0.254</td><td>36</td><td>1</td><td>[0.0,124.0,70.0,2...</td><td>[0.0,3.8783186051...</td><td>[1.73743842997137...</td><td>[0.85036140611132...</td><td>0.0</td></tr>\n",
              "<tr><td>0</td><td>129</td><td>80</td><td>0</td><td>0</td><td>31.2</td><td>0.703</td><td>29</td><td>0</td><td>[0.0,129.0,80.0,0...</td><td>[0.0,4.0347024198...</td><td>[1.00226142526783...</td><td>[0.73150296943056...</td><td>0.0</td></tr>\n",
              "<tr><td>0</td><td>135</td><td>94</td><td>46</td><td>145</td><td>40.6</td><td>0.284</td><td>26</td><td>0</td><td>[0.0,135.0,94.0,4...</td><td>[0.0,4.2223629974...</td><td>[0.88664296709252...</td><td>[0.70819691332215...</td><td>0.0</td></tr>\n",
              "<tr><td>0</td><td>173</td><td>78</td><td>32</td><td>265</td><td>46.5</td><td>1.159</td><td>58</td><td>0</td><td>[0.0,173.0,78.0,3...</td><td>[0.0,5.4108799893...</td><td>[-2.6241234841302...</td><td>[0.06760191866465...</td><td>1.0</td></tr>\n",
              "<tr><td>1</td><td>0</td><td>68</td><td>35</td><td>0</td><td>32.0</td><td>0.389</td><td>22</td><td>0</td><td>[1.0,0.0,68.0,35....</td><td>[0.29677306220323...</td><td>[5.33974265871915...</td><td>[0.99522579730719...</td><td>0.0</td></tr>\n",
              "<tr><td>1</td><td>71</td><td>78</td><td>50</td><td>45</td><td>33.2</td><td>0.422</td><td>21</td><td>0</td><td>[1.0,71.0,78.0,50...</td><td>[0.29677306220323...</td><td>[3.11772531961695...</td><td>[0.95761800456004...</td><td>0.0</td></tr>\n",
              "</table>\n",
              "only showing top 20 rows\n"
            ]
          },
          "metadata": {},
          "execution_count": 178
        }
      ]
    },
    {
      "cell_type": "markdown",
      "source": [
        "# 3.Evaluate your model .(Select the appropriate metric to assess your model with)"
      ],
      "metadata": {
        "id": "f3rHB7dosoSf"
      }
    },
    {
      "cell_type": "code",
      "source": [
        "cl_eval = BinaryClassificationEvaluator(rawPredictionCol=\"rawPrediction\", labelCol=\"Outcome\")"
      ],
      "metadata": {
        "id": "DgR5FKI_ktAu"
      },
      "execution_count": null,
      "outputs": []
    },
    {
      "cell_type": "code",
      "source": [
        "AUC_SCORE = cl_eval.evaluate(predictions)"
      ],
      "metadata": {
        "id": "GGq-aq8iqnPR"
      },
      "execution_count": null,
      "outputs": []
    },
    {
      "cell_type": "code",
      "source": [
        "print(\"Area under the curve :\", AUC_SCORE)"
      ],
      "metadata": {
        "colab": {
          "base_uri": "https://localhost:8080/"
        },
        "id": "jFSOAJmgqvw1",
        "outputId": "461bcc8f-1543-40bc-f3d4-f64b6ba8098e"
      },
      "execution_count": null,
      "outputs": [
        {
          "output_type": "stream",
          "name": "stdout",
          "text": [
            "Area under the curve : 0.8619186046511628\n"
          ]
        }
      ]
    },
    {
      "cell_type": "code",
      "source": [
        "precision = predictions.filter(predictions[\"Outcome\"] == predictions[\"prediction\"]).count() / predictions.count()\n",
        "print(\"Precision:\", precision)"
      ],
      "metadata": {
        "colab": {
          "base_uri": "https://localhost:8080/"
        },
        "id": "pgx7Iji7q1t4",
        "outputId": "d6d8cb51-f2c7-4c65-8f44-8d42610cfa0d"
      },
      "execution_count": null,
      "outputs": [
        {
          "output_type": "stream",
          "name": "stdout",
          "text": [
            "Precision: 0.7804878048780488\n"
          ]
        }
      ]
    },
    {
      "cell_type": "code",
      "source": [
        "predictions.select(\"Outcome\", \"prediction\", \"probability\").show()"
      ],
      "metadata": {
        "colab": {
          "base_uri": "https://localhost:8080/"
        },
        "id": "wFtGkJw8rM_X",
        "outputId": "a9f6fa3f-0013-4074-cff1-043d878418e7"
      },
      "execution_count": null,
      "outputs": [
        {
          "output_type": "stream",
          "name": "stdout",
          "text": [
            "+-------+----------+--------------------+\n",
            "|Outcome|prediction|         probability|\n",
            "+-------+----------+--------------------+\n",
            "|      0|       0.0|[0.95527778035130...|\n",
            "|      0|       0.0|[0.93520106766183...|\n",
            "|      0|       0.0|[0.87809671791306...|\n",
            "|      0|       0.0|[0.98758408541814...|\n",
            "|      0|       0.0|[0.96359929366418...|\n",
            "|      0|       0.0|[0.95176905482943...|\n",
            "|      0|       0.0|[0.99288480614979...|\n",
            "|      0|       0.0|[0.82433442208141...|\n",
            "|      0|       0.0|[0.87768375148767...|\n",
            "|      1|       0.0|[0.86713495811880...|\n",
            "|      0|       0.0|[0.82056976963441...|\n",
            "|      0|       1.0|[0.36338788519267...|\n",
            "|      0|       0.0|[0.73184959052007...|\n",
            "|      0|       0.0|[0.72589362953628...|\n",
            "|      1|       0.0|[0.85036140611132...|\n",
            "|      0|       0.0|[0.73150296943056...|\n",
            "|      0|       0.0|[0.70819691332215...|\n",
            "|      0|       1.0|[0.06760191866465...|\n",
            "|      0|       0.0|[0.99522579730719...|\n",
            "|      0|       0.0|[0.95761800456004...|\n",
            "+-------+----------+--------------------+\n",
            "only showing top 20 rows\n",
            "\n"
          ]
        }
      ]
    },
    {
      "cell_type": "code",
      "source": [
        "test.describe().select(\"summary\",\"Outcome\").show()"
      ],
      "metadata": {
        "colab": {
          "base_uri": "https://localhost:8080/"
        },
        "id": "dWoQDnnDrtJb",
        "outputId": "78667f0f-2107-4ac8-e6d8-5bf1f63b37d7"
      },
      "execution_count": null,
      "outputs": [
        {
          "output_type": "stream",
          "name": "stdout",
          "text": [
            "+-------+-------------------+\n",
            "|summary|            Outcome|\n",
            "+-------+-------------------+\n",
            "|  count|                123|\n",
            "|   mean|0.34959349593495936|\n",
            "| stddev| 0.4787918510988485|\n",
            "|    min|                  0|\n",
            "|    max|                  1|\n",
            "+-------+-------------------+\n",
            "\n"
          ]
        }
      ]
    }
  ]
}